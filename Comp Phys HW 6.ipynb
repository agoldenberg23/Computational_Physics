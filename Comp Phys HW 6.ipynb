{
 "cells": [
  {
   "cell_type": "markdown",
   "metadata": {},
   "source": [
    "Comp Phys\n",
    "\n",
    "HW #6\n",
    "\n",
    "Adam Goldenberg\n",
    "\n",
    "Python 3 Code"
   ]
  },
  {
   "cell_type": "markdown",
   "metadata": {},
   "source": [
    "Question 1] Code LU Solver\n",
    "\n",
    "Part A] Make up an upper-triangle N×N matrix U test, a lower-triangle N×N matrix L test, and an N-element vector b test for testing. Make N ≥ 3. Find the corresponding matrix A test = L test * U test and solve for x test using numpy.linalg functions.\n",
    "\n",
    "We need to solve the folowing equation: A * x = b"
   ]
  },
  {
   "cell_type": "code",
   "execution_count": 133,
   "metadata": {},
   "outputs": [
    {
     "name": "stdout",
     "output_type": "stream",
     "text": [
      "U = \n",
      "[[1. 1. 2.]\n",
      " [0. 1. 3.]\n",
      " [0. 0. 1.]]\n",
      "L = \n",
      "[[1. 0. 0.]\n",
      " [3. 1. 0.]\n",
      " [2. 1. 1.]]\n",
      "b = \n",
      "[8. 7. 6.]\n"
     ]
    }
   ],
   "source": [
    "import numpy as np\n",
    "\n",
    "N = 3\n",
    "U = np.zeros((N, N))\n",
    "L = np.zeros((N, N))\n",
    "b = np.zeros(N)\n",
    "\n",
    "set = 1 #Iterator to set values\n",
    "\n",
    "#Set the U values\n",
    "for i in range(0, N):\n",
    "    for q in range(i, N):\n",
    "        if(i == q):\n",
    "            U[i][q] = 1\n",
    "        else:\n",
    "            U[i][q] = set\n",
    "            set = set + 1\n",
    "\n",
    "set = N   \n",
    "\n",
    "#Set the L values\n",
    "for i in range(0, N):\n",
    "    for q in range(0, i+1):\n",
    "        if(i == q):\n",
    "            L[i][q] = 1\n",
    "        else:\n",
    "            L[i][q] = set\n",
    "            set = set - 1\n",
    "\n",
    "set = N + 5\n",
    "\n",
    "#Set the b values\n",
    "for i in range(0, N):\n",
    "    b[i] = set\n",
    "    set = set - 1\n",
    "\n",
    "print(\"U = \")\n",
    "print(U)\n",
    "print(\"L = \")\n",
    "print(L)\n",
    "print(\"b = \")\n",
    "print(b)"
   ]
  },
  {
   "cell_type": "code",
   "execution_count": 134,
   "metadata": {},
   "outputs": [
    {
     "name": "stdout",
     "output_type": "stream",
     "text": [
      "A = \n",
      "[[1. 1. 2.]\n",
      " [3. 4. 9.]\n",
      " [2. 3. 8.]]\n"
     ]
    }
   ],
   "source": [
    "#Create the A matrix\n",
    "A = np.matmul(L, U)\n",
    "\n",
    "print(\"A = \")\n",
    "print(A)"
   ]
  },
  {
   "cell_type": "code",
   "execution_count": 135,
   "metadata": {},
   "outputs": [
    {
     "name": "stdout",
     "output_type": "stream",
     "text": [
      "x = \n",
      "[ 32. -38.   7.]\n",
      "True\n"
     ]
    }
   ],
   "source": [
    "#Solving for x\n",
    "xtest = np.linalg.solve(A, b)\n",
    "\n",
    "print(\"x = \")\n",
    "print(xtest)\n",
    "\n",
    "#Checks if the equation is solved corectly\n",
    "print(np.allclose(np.dot(A, xtest), b))"
   ]
  },
  {
   "cell_type": "markdown",
   "metadata": {},
   "source": [
    "Part B] Write a routine that, given any L, U, and b, solves for x. The code should allow any size N. DO NOT use any linalg functions from python (numpy or scipy); just use the algorithm presented in class. Test this code on your test matrices to make sure it works properly."
   ]
  },
  {
   "cell_type": "code",
   "execution_count": 147,
   "metadata": {},
   "outputs": [
    {
     "name": "stdout",
     "output_type": "stream",
     "text": [
      "[ 32. -38.   7.]\n"
     ]
    }
   ],
   "source": [
    "def LUSolver(L, U, b):\n",
    "    #Solve L * y = b\n",
    "    N = len(L[0])\n",
    "    y = np.zeros(N)\n",
    "    y[0] = b[0]/L[0][0]\n",
    "    for i in range(1, N):\n",
    "        sumL = 0\n",
    "        for j in range(0, i):\n",
    "            sumL = sumL + (L[i][j] * y[j])\n",
    "        y[i] = (b[i] - sumL) / L[i][i]\n",
    "    #print(y)\n",
    "    \n",
    "    #solve U * x = y\n",
    "    x = np.zeros(N)\n",
    "    x[N-1] = y[N-1]/L[N-1][N-1]\n",
    "    for i in range(N-2, -1, -1):\n",
    "        sumL = 0\n",
    "        for j in range(i+1, N):\n",
    "            sumL = sumL + (U[i][j] * x[j])\n",
    "        #print(sumL)\n",
    "        x[i] = (y[i] - sumL) / U[i][i]\n",
    "    return x\n",
    "    \n",
    "print(LUSolver(L, U, b))"
   ]
  },
  {
   "cell_type": "markdown",
   "metadata": {},
   "source": [
    "This is the same result as the np algorithm.\n",
    "\n",
    "Part C] Using this code, write another routine to invert A, given L and U. Again, DO NOT use any python linalg functions. Test this code as well."
   ]
  },
  {
   "cell_type": "code",
   "execution_count": 148,
   "metadata": {},
   "outputs": [
    {
     "name": "stdout",
     "output_type": "stream",
     "text": [
      "[[ 5. -2.  1.]\n",
      " [-6.  4. -3.]\n",
      " [ 1. -1.  1.]]\n"
     ]
    }
   ],
   "source": [
    "def invLU(L, U):\n",
    "    N = len(L[0])\n",
    "    #Crate 3 partial matrixes for each diagonal = 1\n",
    "    input = np.zeros((N, N))\n",
    "    a = np.zeros((N,N))\n",
    "    for i in range(0,N):\n",
    "        input[i][i] = 1\n",
    "        a[i] = LUSolver(L, U, input[i])\n",
    "    \n",
    "    #create the matrix to return (need to flip over diagonal)\n",
    "    for i in range(0, N):\n",
    "        for j in range(0,N):\n",
    "            input[i][j] = a[j][i]\n",
    "    \n",
    "    return input\n",
    "\n",
    "print(invLU(L, U))"
   ]
  },
  {
   "cell_type": "markdown",
   "metadata": {},
   "source": [
    "Question 2] Least-Squares Fit"
   ]
  },
  {
   "cell_type": "code",
   "execution_count": 149,
   "metadata": {},
   "outputs": [
    {
     "name": "stdout",
     "output_type": "stream",
     "text": [
      "x = \n",
      "[0.15555493 0.54296703 0.10495412 0.43738019 0.82997303 0.01558403\n",
      " 0.47313499 0.17845758 0.80243614 0.14370009 0.41730548 0.94825259\n",
      " 0.99607557 0.79817166 0.06526181 0.66421262 0.83212533 0.07168155\n",
      " 0.79212462 0.65872476]\n",
      "al = \n",
      "[0.1 0.2 0.3 0.4 0.5 0.6 0.7 0.8]\n"
     ]
    },
    {
     "data": {
      "image/png": "[encoded data removed]",
      "text/plain": [
       "<Figure size 432x288 with 1 Axes>"
      ]
     },
     "metadata": {},
     "output_type": "display_data"
    }
   ],
   "source": [
    "#Part A] create the test data by specification\n",
    "\n",
    "import numpy as np\n",
    "import matplotlib.pyplot as plt\n",
    "\n",
    "x = np.random.random_sample(20)\n",
    "\n",
    "#Assine the the alpha values\n",
    "al = np.zeros(8)\n",
    "al[0] = 0.1\n",
    "for i in range(1,8):\n",
    "    al[i] = al[i-1] + 0.1\n",
    "\n",
    "print(\"x = \")\n",
    "print(x)\n",
    "print(\"al = \")\n",
    "print(al)\n",
    "\n",
    "#Set the y values\n",
    "y = np.zeros((20,8))\n",
    "for i in range(0,20):\n",
    "    xmul = 1\n",
    "    for j in range(0,8):\n",
    "        xmul = xmul * x[i]\n",
    "        y[i][j] = (al[j] * xmul) + (np.random.randn() * (al[j] * xmul * 0.05))\n",
    "\n",
    "for i in range(0,20):\n",
    "    plt.plot(x[i], np.sum(y[i]), 'bo')\n",
    "plt.xlabel(\"x\")\n",
    "plt.ylabel(\"y\")\n",
    "plt.title(\"Test Plot\")\n",
    "plt.show()"
   ]
  },
  {
   "cell_type": "markdown",
   "metadata": {},
   "source": [
    "Part B] Construct the matrix A given your random x.\n",
    "\n",
    "$$y = AB$$ with A being the matrix I am to make and B is the new set of coeficents"
   ]
  },
  {
   "cell_type": "code",
   "execution_count": 150,
   "metadata": {
    "scrolled": false
   },
   "outputs": [
    {
     "name": "stdout",
     "output_type": "stream",
     "text": [
      "[[1.00000000e+00 1.55554931e-01 2.41973365e-02 3.76401500e-03\n",
      "  5.85511092e-04 9.10791373e-05 1.41678089e-05 2.20387253e-06]\n",
      " [1.00000000e+00 5.42967029e-01 2.94813194e-01 1.60073844e-01\n",
      "  8.69148194e-02 4.71918812e-02 2.56236355e-02 1.39127892e-02]\n",
      " [1.00000000e+00 1.04954124e-01 1.10153682e-02 1.15610832e-03\n",
      "  1.21338336e-04 1.27349588e-05 1.33658645e-06 1.40280260e-07]\n",
      " [1.00000000e+00 4.37380186e-01 1.91301427e-01 8.36714537e-02\n",
      "  3.65962360e-02 1.60064685e-02 7.00091217e-03 3.06206027e-03]\n",
      " [1.00000000e+00 8.29973033e-01 6.88855236e-01 5.71731269e-01\n",
      "  4.74521536e-01 3.93840078e-01 3.26876644e-01 2.71298800e-01]\n",
      " [1.00000000e+00 1.55840271e-02 2.42861901e-04 3.78476646e-06\n",
      "  5.89819032e-08 9.19175579e-10 1.43244572e-11 2.23232729e-13]\n",
      " [1.00000000e+00 4.73134990e-01 2.23856718e-01 1.05914446e-01\n",
      "  5.01118304e-02 2.37096604e-02 1.12178699e-02 5.30756676e-03]\n",
      " [1.00000000e+00 1.78457582e-01 3.18471086e-02 5.68335801e-03\n",
      "  1.01423833e-03 1.80998520e-04 3.23005582e-05 5.76427952e-06]\n",
      " [1.00000000e+00 8.02436144e-01 6.43903765e-01 5.16691655e-01\n",
      "  4.14612059e-01 3.32699702e-01 2.66970266e-01 2.14226591e-01]\n",
      " [1.00000000e+00 1.43700089e-01 2.06497155e-02 2.96736595e-03\n",
      "  4.26410750e-04 6.12752626e-05 8.80526067e-06 1.26531674e-06]\n",
      " [1.00000000e+00 4.17305484e-01 1.74143867e-01 7.26711906e-02\n",
      "  3.03260864e-02 1.26552421e-02 5.28110194e-03 2.20383280e-03]\n",
      " [1.00000000e+00 9.48252587e-01 8.99182969e-01 8.52652576e-01\n",
      "  8.08530012e-01 7.66690675e-01 7.27016416e-01 6.89395198e-01]\n",
      " [1.00000000e+00 9.96075565e-01 9.92166532e-01 9.88272839e-01\n",
      "  9.84394427e-01 9.80531236e-01 9.76683205e-01 9.72850276e-01]\n",
      " [1.00000000e+00 7.98171660e-01 6.37077998e-01 5.08497603e-01\n",
      "  4.05868376e-01 3.23952635e-01 2.58569812e-01 2.06383096e-01]\n",
      " [1.00000000e+00 6.52618141e-02 4.25910438e-03 2.77956878e-04\n",
      "  1.81399701e-05 1.18384736e-06 7.72600261e-08 5.04212946e-09]\n",
      " [1.00000000e+00 6.64212616e-01 4.41178400e-01 2.93036259e-01\n",
      "  1.94638380e-01 1.29281268e-01 8.58702492e-02 5.70361029e-02]\n",
      " [1.00000000e+00 8.32125331e-01 6.92432566e-01 5.76190678e-01\n",
      "  4.79462859e-01 3.98973190e-01 3.31995698e-01 2.76262030e-01]\n",
      " [1.00000000e+00 7.16815472e-02 5.13824420e-03 3.68317294e-04\n",
      "  2.64015535e-05 1.89250420e-06 1.35657629e-07 9.72414875e-09]\n",
      " [1.00000000e+00 7.92124615e-01 6.27461406e-01 4.97027625e-01\n",
      "  3.93707816e-01 3.11865652e-01 2.47036460e-01 1.95683661e-01]\n",
      " [1.00000000e+00 6.58724764e-01 4.33918315e-01 2.85832740e-01\n",
      "  1.88285104e-01 1.24028061e-01 8.17003553e-02 5.38180473e-02]]\n"
     ]
    }
   ],
   "source": [
    "A = np.zeros((20,8))\n",
    "for i in range(0, 20):\n",
    "    A[i][0] = 1\n",
    "    for j in range(1, 8):\n",
    "        A[i][j] = A[i][j-1] * x[i]\n",
    "\n",
    "print(A)"
   ]
  },
  {
   "cell_type": "markdown",
   "metadata": {},
   "source": [
    "Part C] Use SVD to solve for B that minimizes S.\n",
    "$$A = UWV^{T}$$\n",
    "$$A^{-1} = VW^{-1}U^{T}$$\n",
    "\n",
    "So for our equation\n",
    "$$AB = y$$\n",
    "$$B = A^{-1}y$$\n",
    "$$B = VW^{-1}U^{T}y$$"
   ]
  },
  {
   "cell_type": "code",
   "execution_count": 171,
   "metadata": {},
   "outputs": [
    {
     "ename": "ValueError",
     "evalue": "shapes (8,8) and (20,8) not aligned: 8 (dim 1) != 20 (dim 0)",
     "output_type": "error",
     "traceback": [
      "\u001b[1;31m---------------------------------------------------------------------------\u001b[0m",
      "\u001b[1;31mValueError\u001b[0m                                Traceback (most recent call last)",
      "\u001b[1;32m<ipython-input-171-5bd819141f66>\u001b[0m in \u001b[0;36m<module>\u001b[1;34m()\u001b[0m\n\u001b[0;32m      5\u001b[0m     \u001b[0mW\u001b[0m\u001b[1;33m[\u001b[0m\u001b[0mi\u001b[0m\u001b[1;33m]\u001b[0m\u001b[1;33m[\u001b[0m\u001b[0mi\u001b[0m\u001b[1;33m]\u001b[0m \u001b[1;33m=\u001b[0m \u001b[0mWp\u001b[0m\u001b[1;33m[\u001b[0m\u001b[0mi\u001b[0m\u001b[1;33m]\u001b[0m\u001b[1;33m\u001b[0m\u001b[0m\n\u001b[0;32m      6\u001b[0m \u001b[0mpart\u001b[0m \u001b[1;33m=\u001b[0m \u001b[0mnp\u001b[0m\u001b[1;33m.\u001b[0m\u001b[0mmatmul\u001b[0m\u001b[1;33m(\u001b[0m\u001b[0mU\u001b[0m\u001b[1;33m.\u001b[0m\u001b[0mtranspose\u001b[0m\u001b[1;33m(\u001b[0m\u001b[1;33m)\u001b[0m\u001b[1;33m,\u001b[0m \u001b[0my\u001b[0m\u001b[1;33m)\u001b[0m\u001b[1;33m\u001b[0m\u001b[0m\n\u001b[1;32m----> 7\u001b[1;33m \u001b[0mpart\u001b[0m \u001b[1;33m=\u001b[0m \u001b[0mnp\u001b[0m\u001b[1;33m.\u001b[0m\u001b[0mmatmul\u001b[0m\u001b[1;33m(\u001b[0m\u001b[0mnp\u001b[0m\u001b[1;33m.\u001b[0m\u001b[0mlinalg\u001b[0m\u001b[1;33m.\u001b[0m\u001b[0minv\u001b[0m\u001b[1;33m(\u001b[0m\u001b[0mW\u001b[0m\u001b[1;33m)\u001b[0m\u001b[1;33m,\u001b[0m \u001b[0mpart\u001b[0m\u001b[1;33m)\u001b[0m\u001b[1;33m\u001b[0m\u001b[0m\n\u001b[0m\u001b[0;32m      8\u001b[0m \u001b[0mpart\u001b[0m \u001b[1;33m=\u001b[0m \u001b[0mnp\u001b[0m\u001b[1;33m.\u001b[0m\u001b[0mmatmul\u001b[0m\u001b[1;33m(\u001b[0m\u001b[0mVt\u001b[0m\u001b[1;33m,\u001b[0m \u001b[0mpart\u001b[0m\u001b[1;33m)\u001b[0m\u001b[1;33m\u001b[0m\u001b[0m\n\u001b[0;32m      9\u001b[0m \u001b[0mprint\u001b[0m\u001b[1;33m(\u001b[0m\u001b[0mpart\u001b[0m\u001b[1;33m)\u001b[0m\u001b[1;33m\u001b[0m\u001b[0m\n",
      "\u001b[1;31mValueError\u001b[0m: shapes (8,8) and (20,8) not aligned: 8 (dim 1) != 20 (dim 0)"
     ]
    }
   ],
   "source": [
    "(U, Wp, Vt) = np.linalg.svd(A)\n",
    "#construct a full W matrix instead of a vector of it\n",
    "W = np.zeros((len(Wp), len(Wp)))\n",
    "for i in range(0,len(Wp)):\n",
    "    W[i][i] = Wp[i]\n",
    "part = np.matmul(U.transpose(), y)\n",
    "part = np.matmul(np.linalg.inv(W), part)\n",
    "part = np.matmul(Vt, part)\n",
    "print(part)"
   ]
  },
  {
   "cell_type": "markdown",
   "metadata": {},
   "source": [
    "Error here but I do not know what this is coming from."
   ]
  },
  {
   "cell_type": "markdown",
   "metadata": {},
   "source": [
    "Part D] Use the folowing formula to solve for the least squares:\n",
    "$$(A^{T} * A) * B = A^{T} * y$$\n",
    "which is turned into the folowing equation,\n",
    "$$B = (A^{T} * A)^{-1} * A^{T} * y$$"
   ]
  },
  {
   "cell_type": "code",
   "execution_count": 154,
   "metadata": {},
   "outputs": [
    {
     "name": "stdout",
     "output_type": "stream",
     "text": [
      "[[-7.39232776e-04 -3.64840338e-04  2.60929075e-03 -9.47461125e-04\n",
      "  -2.21298565e-03  1.67706048e-03  8.17462497e-04  1.30315065e-03]\n",
      " [ 1.52100579e-01  1.72732511e-02 -1.78195359e-01  6.51843096e-02\n",
      "   1.43620846e-01 -9.53413131e-02 -5.68930894e-02 -8.08642617e-02]\n",
      " [-1.08633217e+00  2.92122811e-02  3.03507597e+00 -1.12453876e+00\n",
      "  -2.34868411e+00  1.32978984e+00  9.91537108e-01  1.25164788e+00]\n",
      " [ 8.58520584e+00  5.29465247e-01 -2.03866958e+01  7.85928157e+00\n",
      "   1.56350169e+01 -7.35727456e+00 -6.96461554e+00 -7.77827321e+00]\n",
      " [-3.00963656e+01 -8.27776568e-01  6.57684690e+01 -2.56716708e+01\n",
      "  -4.96281556e+01  1.90145270e+01  2.30386633e+01  2.25775341e+01]\n",
      " [ 5.15201452e+01  9.55246051e-01 -1.04793143e+02  4.39338460e+01\n",
      "   8.06078599e+01 -2.42193956e+01 -3.85236205e+01 -3.22306497e+01]\n",
      " [-4.23072294e+01 -7.21634619e-01  8.12598951e+01 -3.61991245e+01\n",
      "  -6.35560440e+01  1.51367676e+01  3.15922207e+01  2.11520166e+01]\n",
      " [ 1.33319364e+01  1.94842004e-01 -2.43868003e+01  1.15411988e+01\n",
      "   1.96319725e+01 -3.22254832e+00 -9.40100465e+00 -4.08814042e+00]]\n"
     ]
    }
   ],
   "source": [
    "At = A.transpose()\n",
    "At = np.matmul(At, A)\n",
    "At = np.linalg.inv(At)\n",
    "At = np.matmul(At, A.transpose())\n",
    "At = np.matmul(At, y)\n",
    "print(At)"
   ]
  },
  {
   "cell_type": "markdown",
   "metadata": {},
   "source": [
    "The al values goten from this vary from point to point and are mostly significantly off."
   ]
  },
  {
   "cell_type": "code",
   "execution_count": null,
   "metadata": {},
   "outputs": [],
   "source": []
  }
 ],
 "metadata": {
  "kernelspec": {
   "display_name": "Python 3",
   "language": "python",
   "name": "python3"
  },
  "language_info": {
   "codemirror_mode": {
    "name": "ipython",
    "version": 3
   },
   "file_extension": ".py",
   "mimetype": "text/x-python",
   "name": "python",
   "nbconvert_exporter": "python",
   "pygments_lexer": "ipython3",
   "version": "3.6.5"
  }
 },
 "nbformat": 4,
 "nbformat_minor": 2
}
