{
 "cells": [
  {
   "cell_type": "markdown",
   "metadata": {},
   "source": [
    "Problem 1] Derive the approximation error for the Simpson’s Rule. Hint: see the derivation for the Trapezoid Rule in the lecture notes.\n",
    "See PDF givin with this for my solution."
   ]
  },
  {
   "cell_type": "markdown",
   "metadata": {},
   "source": [
    "Problem 2\n",
    "\n",
    "We need to first change to bounds of the following formulas:\n",
    "$$K(k) = \\int_{0}^{(1/2) \\pi}  \\frac{1}{\\sqrt{1 - k^{2} \\sin ^2(\\phi)}}   d\\phi$$\n",
    "$$E(k) = \\int_{0}^{(1/2) \\pi}  {\\sqrt{1 - k^{2} \\sin ^2(\\phi)}}   d\\phi$$\n",
    "To the bounds -1 to 1.\n",
    "\n",
    "For K:\n",
    "$$du = k \\cos(\\phi) d\\phi$$\n",
    "$$K(k) = \\int_{-k}^{k} \\frac{1}{k \\cos(\\phi) \\sqrt{1 - u^{2}}} du$$\n",
    "$$= \\int_{-k}^{k} \\frac{1}{\\sqrt{k^{2} - u^{2}} \\sqrt{1 - u^{2}}} du$$\n",
    "x = u / k\n",
    "$$K(x) = \\int_{-1}^{1} \\frac{1/2}{\\sqrt{1 - x^{2}} \\sqrt{1 - k^{2} x^{2}}} dx$$\n",
    "$$f(x) = \\frac{1/2}{\\sqrt{1 - k^{2} x^{2}}}$$"
   ]
  },
  {
   "cell_type": "markdown",
   "metadata": {},
   "source": [
    "For E:\n",
    "$$du = kcos(\\phi)d\\phi$$\n",
    "$$E(k) = \\int_{-k}^{k} \\frac{\\sqrt{1 - u^{2}}}{\\sqrt{k^{2} - u^{2}}} du$$\n",
    "x = u / k\n",
    "$$E(x) = \\int_{-1}^{1} 1/2 \\sqrt{1-x^{2}}\\sqrt{1 - k^{2} x^{2}} dx$$\n",
    "$$f(x) = 1/2 \\sqrt{1 - k^{2} x^{2}}$$"
   ]
  },
  {
   "cell_type": "code",
   "execution_count": 36,
   "metadata": {},
   "outputs": [
    {
     "name": "stderr",
     "output_type": "stream",
     "text": [
      "E:\\Python\\JupyterFiles\\lib\\site-packages\\ipykernel_launcher.py:25: RuntimeWarning: invalid value encountered in true_divide\n"
     ]
    },
    {
     "ename": "ValueError",
     "evalue": "setting an array element with a sequence.",
     "output_type": "error",
     "traceback": [
      "\u001b[1;31m---------------------------------------------------------------------------\u001b[0m",
      "\u001b[1;31mValueError\u001b[0m                                Traceback (most recent call last)",
      "\u001b[1;32m<ipython-input-36-a89c683f5f76>\u001b[0m in \u001b[0;36m<module>\u001b[1;34m()\u001b[0m\n\u001b[0;32m     41\u001b[0m     \u001b[0mnp\u001b[0m\u001b[1;33m.\u001b[0m\u001b[0mcumsum\u001b[0m\u001b[1;33m(\u001b[0m\u001b[0mKx\u001b[0m\u001b[1;33m)\u001b[0m\u001b[1;33m\u001b[0m\u001b[0m\n\u001b[0;32m     42\u001b[0m     \u001b[0mnp\u001b[0m\u001b[1;33m.\u001b[0m\u001b[0mcumsum\u001b[0m\u001b[1;33m(\u001b[0m\u001b[0mEx\u001b[0m\u001b[1;33m)\u001b[0m\u001b[1;33m\u001b[0m\u001b[0m\n\u001b[1;32m---> 43\u001b[1;33m     \u001b[0mOresult\u001b[0m\u001b[1;33m[\u001b[0m\u001b[0mO\u001b[0m\u001b[1;33m]\u001b[0m \u001b[1;33m=\u001b[0m \u001b[0mA\u001b[0m\u001b[1;33m(\u001b[0m\u001b[1;36m1.1\u001b[0m\u001b[1;33m,\u001b[0m \u001b[0mO\u001b[0m\u001b[1;33m,\u001b[0m \u001b[0mKx\u001b[0m\u001b[1;33m[\u001b[0m\u001b[0mn\u001b[0m\u001b[1;33m-\u001b[0m\u001b[1;36m1\u001b[0m\u001b[1;33m]\u001b[0m\u001b[1;33m,\u001b[0m \u001b[0mEx\u001b[0m\u001b[1;33m[\u001b[0m\u001b[0mn\u001b[0m\u001b[1;33m-\u001b[0m\u001b[1;36m1\u001b[0m\u001b[1;33m]\u001b[0m\u001b[1;33m)\u001b[0m\u001b[1;33m\u001b[0m\u001b[0m\n\u001b[0m\u001b[0;32m     44\u001b[0m \u001b[1;33m\u001b[0m\u001b[0m\n\u001b[0;32m     45\u001b[0m \u001b[0mprint\u001b[0m\u001b[1;33m(\u001b[0m\u001b[0mOresult\u001b[0m\u001b[1;33m)\u001b[0m\u001b[1;33m\u001b[0m\u001b[0m\n",
      "\u001b[1;31mValueError\u001b[0m: setting an array element with a sequence."
     ]
    }
   ],
   "source": [
    "#Problem 2] Do problem 6 in S5.16 on pg. 108\n",
    "#Use Gauss-Chebyshev quadrature with W(x) = 1/(1−x2)^(1/2) for -1 < x < 1 to compute K(k) and E(k)\n",
    "\n",
    "import math\n",
    "\n",
    "def setK(r, O):\n",
    "    k = 4 * r * math.sin(O)\n",
    "    l = 1 + r**2 + (2 * r * math.sin(O))\n",
    "    k = k / l\n",
    "    return math.sqrt(k)\n",
    "\n",
    "def K(x, k):\n",
    "    part = math.sqrt(1 - ((k**2) * (x**2)))\n",
    "    part2 = 1/2\n",
    "    return part2 / part\n",
    "\n",
    "def E(x, k):\n",
    "    part = math.sqrt(1 - (k**2) * (x**2))\n",
    "    return (1/2) * part\n",
    "\n",
    "def A(r, O, K, E):\n",
    "    p1 = math.sqrt(1.0 + r**2 + (2.0 * r * math.sin(O)))\n",
    "    p1 = 12 / p1\n",
    "    p2 = ((2.0 - k**2) * K) - (2.0 * E)\n",
    "    p2 = p2 / (k**2)\n",
    "    return p1 * p2\n",
    "\n",
    "Oresult = np.zeros(1000)\n",
    "for O in range(0, 3):\n",
    "    n = 1000\n",
    "    k = np.zeros(n)\n",
    "    Kx = np.zeros(n)\n",
    "    Ex = np.zeros(n)\n",
    "    k = np.zeros(n)\n",
    "    for i in range(0, len(Kx)):\n",
    "        Kx[i] = math.cos((2 * i - 1)/(2 * n) * math.pi)\n",
    "        Ex[i] = math.cos((2 * i - 1)/(2 * n) * math.pi)\n",
    "        k[i] = setK(1.1, O)\n",
    "        Kx[i] = (math.pi / n) * K(Kx[i], k[i])\n",
    "        Ex[i] = (math.pi / n) * E(Ex[i], k[i])\n",
    "    np.cumsum(Kx)\n",
    "    np.cumsum(Ex)\n",
    "    Oresult[O] = A(1.1, O, Kx[n-1], Ex[n-1])\n",
    "\n",
    "print(Oresult)"
   ]
  },
  {
   "cell_type": "markdown",
   "metadata": {},
   "source": [
    "Problem 3] We need to intigrate the flowing formula (after plugging in constants):\n",
    "\n",
    "$$ 2\\pi \\int_{0}^{\\infty} r dr \\int_{0}^{\\infty} \\frac{5}{(\\frac{m}{500} + 1)^{3} m} dz$$\n",
    "\n",
    "With $$m = r^{2} + z^{2} / Q^{2}$$ and Q from 0.1 to 10, logrithmic.\n",
    "rmax and zmax is 500,000"
   ]
  },
  {
   "cell_type": "code",
   "execution_count": 16,
   "metadata": {},
   "outputs": [],
   "source": [
    "import numpy as np\n",
    "import matplotlib.pyplot as plt\n",
    "\n",
    "a = 0 #Min\n",
    "b = 500000 #Max\n",
    "N = 1000000 #Number of points to take (Chosen to not blow up my computer)\n",
    "xRand = np.zeros(N) #x random numbers\n",
    "rRand = np.zeros(N) #r random numbers\n",
    "\n",
    "for i in range(0, len(xRand)):\n",
    "    xRand[i] = np.random.random_sample()\n",
    "    rRand[i] = np.random.random_sample()"
   ]
  },
  {
   "cell_type": "code",
   "execution_count": 17,
   "metadata": {},
   "outputs": [
    {
     "name": "stdout",
     "output_type": "stream",
     "text": [
      "The intigral for Q = 0.1 is 1173012.9121956388\n",
      "The intigral for Q = 0.10985411419875583 is 1285801.4156457435\n",
      "The intigral for Q = 0.12067926406393285 is 1408933.034553089\n",
      "The intigral for Q = 0.13257113655901093 is 1543248.4644340654\n",
      "The intigral for Q = 0.14563484775012436 is 1689636.737948923\n",
      "The intigral for Q = 0.15998587196060582 is 1849033.1253209435\n",
      "The intigral for Q = 0.1757510624854792 is 2022415.4346268855\n",
      "The intigral for Q = 0.193069772888325 is 2210798.444852475\n",
      "The intigral for Q = 0.21209508879201905 is 2415226.2069413513\n",
      "The intigral for Q = 0.2329951810515372 is 2636761.9654702623\n",
      "The intigral for Q = 0.2559547922699536 is 2876475.487919673\n",
      "The intigral for Q = 0.281176869797423 is 3135427.638578156\n",
      "The intigral for Q = 0.3088843596477481 is 3414652.100375484\n",
      "The intigral for Q = 0.3393221771895328 is 3715134.237506902\n",
      "The intigral for Q = 0.372759372031494 is 4037787.2211157857\n",
      "The intigral for Q = 0.4094915062380424 is 4383425.733128996\n",
      "The intigral for Q = 0.44984326689694454 is 4752737.842640501\n",
      "The intigral for Q = 0.49417133613238345 is 5146256.024661756\n",
      "The intigral for Q = 0.5428675439323859 is 5564328.74375999\n",
      "The intigral for Q = 0.5963623316594643 is 6007094.495381055\n",
      "The intigral for Q = 0.6551285568595507 is 6474460.583090854\n",
      "The intigral for Q = 0.7196856730011519 is 6966089.079988684\n",
      "The intigral for Q = 0.7906043210907697 is 7481392.251477083\n",
      "The intigral for Q = 0.8685113737513525 is 8019539.128531992\n",
      "The intigral for Q = 0.9540954763499939 is 8579473.93095388\n",
      "The intigral for Q = 1.0481131341546859 is 9159945.775852494\n",
      "The intigral for Q = 1.151395399326447 is 9759547.789921718\n",
      "The intigral for Q = 1.2648552168552958 is 10376762.63787148\n",
      "The intigral for Q = 1.3894954943731375 is 11010010.81100393\n",
      "The intigral for Q = 1.5264179671752334 is 11657697.912359063\n",
      "The intigral for Q = 1.6768329368110073 is 12318257.613651475\n",
      "The intigral for Q = 1.8420699693267153 is 12990187.80796179\n",
      "The intigral for Q = 2.0235896477251565 is 13672078.534024935\n",
      "The intigral for Q = 2.2229964825261943 is 14362631.291391086\n",
      "The intigral for Q = 2.442053094548651 is 15060670.235917747\n",
      "The intigral for Q = 2.6826957952797246 is 15765146.351062017\n",
      "The intigral for Q = 2.9470517025518097 is 16475136.014956038\n",
      "The intigral for Q = 3.2374575428176433 is 17189835.464143213\n",
      "The intigral for Q = 3.5564803062231287 is 17908552.558032673\n",
      "The intigral for Q = 3.9069399370546147 is 18630697.04090595\n",
      "The intigral for Q = 4.291934260128776 is 19355770.23374783\n",
      "The intigral for Q = 4.714866363457392 is 20083354.80165555\n",
      "The intigral for Q = 5.17947467923121 is 20813104.961973663\n",
      "The intigral for Q = 5.689866029018296 is 21544737.254234094\n",
      "The intigral for Q = 6.25055192527397 is 22278021.82254675\n",
      "The intigral for Q = 6.866488450042998 is 23012774.09548735\n",
      "The intigral for Q = 7.543120063354615 is 23748846.79441906\n",
      "The intigral for Q = 8.286427728546842 is 24486122.325169876\n",
      "The intigral for Q = 9.102981779915218 is 25224505.741381265\n",
      "The intigral for Q = 10.0 is 25963918.532045558\n"
     ]
    }
   ],
   "source": [
    "import math\n",
    "\n",
    "Q = np.logspace(-1, 1)\n",
    "\n",
    "def m(r, z, Q):\n",
    "    return (r**2) + ((z**2) / (Q**2))\n",
    "\n",
    "def func(r, z, Q):\n",
    "    top = 2 * math.pi * r * 5\n",
    "    bot = m(r, z, Q) / 500\n",
    "    bot = (bot + 1)**3\n",
    "    bot = bot * m(r, z, Q)\n",
    "    return top / bot\n",
    "\n",
    "intigral = 0\n",
    "\n",
    "for q in Q:\n",
    "    intigral = 0\n",
    "    for i in range(0, N):\n",
    "        intigral = intigral + func(xRand[i], rRand[i], q)\n",
    "    print(\"The intigral for Q = \" + str(q) + \" is \" + str(((b-a)**2 / N**2) * intigral))"
   ]
  },
  {
   "cell_type": "markdown",
   "metadata": {},
   "source": [
    "This works by making a number of random values for x and r. For each chosen Q value in the log range, the intigral is computed and printed above. This is done by adding up 1000000 points randomly chosen throghout the area of the function (both x and r values) and taking the average by multiplying by $$(b-a)^{2} / N^{2}$$ This average of the values of random points should converge on the wanted value with enogh points being taken."
   ]
  },
  {
   "cell_type": "code",
   "execution_count": null,
   "metadata": {},
   "outputs": [],
   "source": []
  }
 ],
 "metadata": {
  "kernelspec": {
   "display_name": "Python 3",
   "language": "python",
   "name": "python3"
  },
  "language_info": {
   "codemirror_mode": {
    "name": "ipython",
    "version": 3
   },
   "file_extension": ".py",
   "mimetype": "text/x-python",
   "name": "python",
   "nbconvert_exporter": "python",
   "pygments_lexer": "ipython3",
   "version": "3.6.5"
  }
 },
 "nbformat": 4,
 "nbformat_minor": 2
}
